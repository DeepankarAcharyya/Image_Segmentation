{
  "nbformat": 4,
  "nbformat_minor": 0,
  "metadata": {
    "colab": {
      "name": "Img_Seg01.ipynb",
      "provenance": [],
      "collapsed_sections": [],
      "authorship_tag": "ABX9TyOgLHWG+LAU7/aqdlNJXBsO"
    },
    "kernelspec": {
      "name": "python3",
      "display_name": "Python 3"
    }
  },
  "cells": [
    {
      "cell_type": "markdown",
      "metadata": {
        "id": "xxHVBFZDoVae"
      },
      "source": [
        "#Reference site : \r\n",
        "https://www.tensorflow.org/tutorials/images/segmentation#define_the_model"
      ]
    },
    {
      "cell_type": "markdown",
      "metadata": {
        "id": "znp5yIlHpdbB"
      },
      "source": [
        "# The imports"
      ]
    },
    {
      "cell_type": "code",
      "metadata": {
        "id": "5ne4x39PoLFF"
      },
      "source": [
        "import os\r\n",
        "import tensorflow as tf"
      ],
      "execution_count": 1,
      "outputs": []
    },
    {
      "cell_type": "code",
      "metadata": {
        "id": "KXy1u7c8o7cB"
      },
      "source": [
        ""
      ],
      "execution_count": null,
      "outputs": []
    }
  ]
}